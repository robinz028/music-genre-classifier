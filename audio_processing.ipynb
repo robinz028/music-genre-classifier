{
 "cells": [
  {
   "cell_type": "code",
   "execution_count": 1,
   "id": "0357d825-1764-4f40-9eb5-fe54a636cae9",
   "metadata": {},
   "outputs": [],
   "source": [
    "import librosa\n",
    "import numpy as np\n",
    "\n",
    "def slice_spectrogram(mel_spec, slice_width=128):\n",
    "    slices = []\n",
    "    total_frames = mel_spec.shape[1]\n",
    "\n",
    "    for start in range(0, total_frames - slice_width + 1, slice_width):\n",
    "        slice_img = mel_spec[:, start:start + slice_width]\n",
    "        if slice_img.shape == (128, 128):\n",
    "            slices.append(slice_img)\n",
    "\n",
    "    return slices\n",
    "\n",
    "\n",
    "def predict_genre_for_song(file_path, model, encoder, slice_width=128):\n",
    "    y_audio, sr = librosa.load(file_path, sr=None, duration=30)\n",
    "\n",
    "    mel_spec = librosa.feature.melspectrogram(y=y_audio, sr=sr, n_mels=128)\n",
    "    mel_db = librosa.power_to_db(mel_spec, ref=np.max)\n",
    "\n",
    "    slices = slice_spectrogram(mel_db, slice_width=slice_width)\n",
    "    predictions = []\n",
    "\n",
    "    for s in slices:\n",
    "        inp = s[np.newaxis, ..., np.newaxis] / 255.0\n",
    "        pred = model.predict(inp, verbose=0)\n",
    "        predictions.append(pred[0])  # softmax 输出\n",
    "\n",
    "    if not predictions:\n",
    "        return \"Unknown\"\n",
    "\n",
    "    avg_pred = np.mean(predictions, axis=0)\n",
    "    genre_index = np.argmax(avg_pred)\n",
    "    return encoder.inverse_transform([genre_index])[0]"
   ]
  },
  {
   "cell_type": "code",
   "execution_count": null,
   "id": "2911e5ca-3e4a-4b2d-bff3-858d84e675c3",
   "metadata": {},
   "outputs": [],
   "source": []
  }
 ],
 "metadata": {
  "kernelspec": {
   "display_name": "Python [conda env:base] *",
   "language": "python",
   "name": "conda-base-py"
  },
  "language_info": {
   "codemirror_mode": {
    "name": "ipython",
    "version": 3
   },
   "file_extension": ".py",
   "mimetype": "text/x-python",
   "name": "python",
   "nbconvert_exporter": "python",
   "pygments_lexer": "ipython3",
   "version": "3.12.2"
  }
 },
 "nbformat": 4,
 "nbformat_minor": 5
}
